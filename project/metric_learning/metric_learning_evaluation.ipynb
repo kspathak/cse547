{
 "cells": [
  {
   "cell_type": "markdown",
   "metadata": {},
   "source": [
    "See [metric_learning.ipynb](metric_learning.ipynb) for how the neighbors are generated."
   ]
  },
  {
   "cell_type": "code",
   "execution_count": 46,
   "metadata": {},
   "outputs": [
    {
     "ename": "AttributeError",
     "evalue": "'tuple' object has no attribute 'reshape'",
     "output_type": "error",
     "traceback": [
      "\u001b[0;31m---------------------------------------------------------------------------\u001b[0m",
      "\u001b[0;31mAttributeError\u001b[0m                            Traceback (most recent call last)",
      "\u001b[0;32m<ipython-input-46-d8df18fb359b>\u001b[0m in \u001b[0;36m<module>\u001b[0;34m()\u001b[0m\n\u001b[1;32m     17\u001b[0m \u001b[0meval_data_index\u001b[0m \u001b[0;34m=\u001b[0m \u001b[0mnp\u001b[0m\u001b[0;34m.\u001b[0m\u001b[0msum\u001b[0m\u001b[0;34m(\u001b[0m\u001b[0mlabels\u001b[0m\u001b[0;34m,\u001b[0m \u001b[0maxis\u001b[0m\u001b[0;34m=\u001b[0m\u001b[0;36m1\u001b[0m\u001b[0;34m)\u001b[0m \u001b[0;34m==\u001b[0m \u001b[0;36m1\u001b[0m\u001b[0;34m\u001b[0m\u001b[0m\n\u001b[1;32m     18\u001b[0m \u001b[0mlabels\u001b[0m \u001b[0;34m=\u001b[0m \u001b[0mlabels\u001b[0m\u001b[0;34m[\u001b[0m\u001b[0meval_data_index\u001b[0m\u001b[0;34m]\u001b[0m\u001b[0;34m\u001b[0m\u001b[0m\n\u001b[0;32m---> 19\u001b[0;31m \u001b[0mlabels\u001b[0m \u001b[0;34m=\u001b[0m \u001b[0mnp\u001b[0m\u001b[0;34m.\u001b[0m\u001b[0marray\u001b[0m\u001b[0;34m(\u001b[0m\u001b[0;34m[\u001b[0m\u001b[0mnp\u001b[0m\u001b[0;34m.\u001b[0m\u001b[0mnonzero\u001b[0m\u001b[0;34m(\u001b[0m\u001b[0mlabel\u001b[0m\u001b[0;34m)\u001b[0m\u001b[0;34m.\u001b[0m\u001b[0mreshape\u001b[0m\u001b[0;34m(\u001b[0m\u001b[0;34m-\u001b[0m\u001b[0;36m1\u001b[0m\u001b[0;34m)\u001b[0m \u001b[0;32mfor\u001b[0m \u001b[0mlabel\u001b[0m \u001b[0;32min\u001b[0m \u001b[0mlabels\u001b[0m\u001b[0;34m]\u001b[0m\u001b[0;34m)\u001b[0m\u001b[0;34m\u001b[0m\u001b[0m\n\u001b[0m\u001b[1;32m     20\u001b[0m \u001b[0mneighbor_distances\u001b[0m \u001b[0;34m=\u001b[0m \u001b[0mneighbor_distances\u001b[0m\u001b[0;34m[\u001b[0m\u001b[0meval_data_index\u001b[0m\u001b[0;34m]\u001b[0m\u001b[0;34m\u001b[0m\u001b[0m\n\u001b[1;32m     21\u001b[0m \u001b[0mneighbor_indices\u001b[0m \u001b[0;34m=\u001b[0m \u001b[0mneighbor_indices\u001b[0m\u001b[0;34m[\u001b[0m\u001b[0meval_data_index\u001b[0m\u001b[0;34m]\u001b[0m\u001b[0;34m\u001b[0m\u001b[0m\n",
      "\u001b[0;32m<ipython-input-46-d8df18fb359b>\u001b[0m in \u001b[0;36m<listcomp>\u001b[0;34m(.0)\u001b[0m\n\u001b[1;32m     17\u001b[0m \u001b[0meval_data_index\u001b[0m \u001b[0;34m=\u001b[0m \u001b[0mnp\u001b[0m\u001b[0;34m.\u001b[0m\u001b[0msum\u001b[0m\u001b[0;34m(\u001b[0m\u001b[0mlabels\u001b[0m\u001b[0;34m,\u001b[0m \u001b[0maxis\u001b[0m\u001b[0;34m=\u001b[0m\u001b[0;36m1\u001b[0m\u001b[0;34m)\u001b[0m \u001b[0;34m==\u001b[0m \u001b[0;36m1\u001b[0m\u001b[0;34m\u001b[0m\u001b[0m\n\u001b[1;32m     18\u001b[0m \u001b[0mlabels\u001b[0m \u001b[0;34m=\u001b[0m \u001b[0mlabels\u001b[0m\u001b[0;34m[\u001b[0m\u001b[0meval_data_index\u001b[0m\u001b[0;34m]\u001b[0m\u001b[0;34m\u001b[0m\u001b[0m\n\u001b[0;32m---> 19\u001b[0;31m \u001b[0mlabels\u001b[0m \u001b[0;34m=\u001b[0m \u001b[0mnp\u001b[0m\u001b[0;34m.\u001b[0m\u001b[0marray\u001b[0m\u001b[0;34m(\u001b[0m\u001b[0;34m[\u001b[0m\u001b[0mnp\u001b[0m\u001b[0;34m.\u001b[0m\u001b[0mnonzero\u001b[0m\u001b[0;34m(\u001b[0m\u001b[0mlabel\u001b[0m\u001b[0;34m)\u001b[0m\u001b[0;34m.\u001b[0m\u001b[0mreshape\u001b[0m\u001b[0;34m(\u001b[0m\u001b[0;34m-\u001b[0m\u001b[0;36m1\u001b[0m\u001b[0;34m)\u001b[0m \u001b[0;32mfor\u001b[0m \u001b[0mlabel\u001b[0m \u001b[0;32min\u001b[0m \u001b[0mlabels\u001b[0m\u001b[0;34m]\u001b[0m\u001b[0;34m)\u001b[0m\u001b[0;34m\u001b[0m\u001b[0m\n\u001b[0m\u001b[1;32m     20\u001b[0m \u001b[0mneighbor_distances\u001b[0m \u001b[0;34m=\u001b[0m \u001b[0mneighbor_distances\u001b[0m\u001b[0;34m[\u001b[0m\u001b[0meval_data_index\u001b[0m\u001b[0;34m]\u001b[0m\u001b[0;34m\u001b[0m\u001b[0m\n\u001b[1;32m     21\u001b[0m \u001b[0mneighbor_indices\u001b[0m \u001b[0;34m=\u001b[0m \u001b[0mneighbor_indices\u001b[0m\u001b[0;34m[\u001b[0m\u001b[0meval_data_index\u001b[0m\u001b[0;34m]\u001b[0m\u001b[0;34m\u001b[0m\u001b[0m\n",
      "\u001b[0;31mAttributeError\u001b[0m: 'tuple' object has no attribute 'reshape'"
     ]
    }
   ],
   "source": [
    "import pickle\n",
    "\n",
    "import numpy as np\n",
    "\n",
    "with open('/data/patch_features_small/test2014_positive.p', 'rb') as f:\n",
    "    eval_data = pickle.load(f)\n",
    "    categories = eval_data['categories']\n",
    "    labels = np.array([label.data.numpy() for label in eval_data['labels']])\n",
    "    \n",
    "with open('/data/patch_features_small/test2014_neighbors.p', 'rb') as f:\n",
    "    neighbor_distances, neighbor_indices = pickle.load(f)\n",
    "\n",
    "with open('/data/patch_features_small/train2014_embeddings.p', 'rb') as f:\n",
    "    embeddings_dict = pickle.load(f)\n",
    "    neighbor_labels = embeddings_dict['labels']\n",
    "    \n",
    "eval_data_index = np.sum(labels, axis=1) == 1\n",
    "labels = np.array([np.argwhere(label).reshape(-1) for label in labels[eval_data_index]])\n",
    "neighbor_distances = neighbor_distances[eval_data_index]\n",
    "neighbor_indices = neighbor_indices[eval_data_index]"
   ]
  },
  {
   "cell_type": "code",
   "execution_count": 98,
   "metadata": {},
   "outputs": [
    {
     "data": {
      "text/plain": [
       "[{'supercategory': 'vehicle', 'id': 2, 'name': 'bicycle'},\n",
       " {'supercategory': 'vehicle', 'id': 3, 'name': 'car'},\n",
       " {'supercategory': 'vehicle', 'id': 4, 'name': 'motorcycle'},\n",
       " {'supercategory': 'vehicle', 'id': 5, 'name': 'airplane'},\n",
       " {'supercategory': 'vehicle', 'id': 6, 'name': 'bus'},\n",
       " {'supercategory': 'vehicle', 'id': 7, 'name': 'train'},\n",
       " {'supercategory': 'vehicle', 'id': 8, 'name': 'truck'},\n",
       " {'supercategory': 'vehicle', 'id': 9, 'name': 'boat'},\n",
       " {'supercategory': 'animal', 'id': 16, 'name': 'bird'},\n",
       " {'supercategory': 'animal', 'id': 17, 'name': 'cat'},\n",
       " {'supercategory': 'animal', 'id': 18, 'name': 'dog'},\n",
       " {'supercategory': 'animal', 'id': 19, 'name': 'horse'},\n",
       " {'supercategory': 'animal', 'id': 20, 'name': 'sheep'},\n",
       " {'supercategory': 'animal', 'id': 21, 'name': 'cow'},\n",
       " {'supercategory': 'animal', 'id': 22, 'name': 'elephant'},\n",
       " {'supercategory': 'animal', 'id': 23, 'name': 'bear'},\n",
       " {'supercategory': 'animal', 'id': 24, 'name': 'zebra'},\n",
       " {'supercategory': 'animal', 'id': 25, 'name': 'giraffe'}]"
      ]
     },
     "execution_count": 98,
     "metadata": {},
     "output_type": "execute_result"
    }
   ],
   "source": [
    "K = 10\n",
    "categories"
   ]
  },
  {
   "cell_type": "code",
   "execution_count": 105,
   "metadata": {},
   "outputs": [
    {
     "data": {
      "text/plain": [
       "[0.044669677,\n",
       " 0.21247225,\n",
       " 0.04137072,\n",
       " 0.033873733,\n",
       " 0.06308611,\n",
       " 0.018129377,\n",
       " 0.113515936,\n",
       " 0.049425654,\n",
       " 0.10515619,\n",
       " 0.0677447,\n",
       " 0.07159624,\n",
       " 0.0815782,\n",
       " 0.14295326,\n",
       " 0.14960404,\n",
       " 0.07540984,\n",
       " 0.013939395,\n",
       " 0.11569622,\n",
       " 0.07865787]"
      ]
     },
     "execution_count": 105,
     "metadata": {},
     "output_type": "execute_result"
    }
   ],
   "source": [
    "from sklearn.metrics import average_precision_score\n",
    "\n",
    "def compute_average_precision_score(k: int, category_index: int = -1) -> float:\n",
    "    in_class_pct = np.array([\n",
    "        np.sum(neighbor_labels[neighbor_indices[i, :k]], axis=0)[label]\n",
    "        for i, label in enumerate(labels)\n",
    "    ])\n",
    "    if category_index > -1:\n",
    "        in_class_pct = in_class_pct[labels == category_index]\n",
    "    return np.mean(in_class_pct/k)\n",
    "\n",
    "[compute_average_precision_score(3, idx) for idx in range(18)]\n",
    "#for k in range(5,10):\n",
    "#    print(k)"
   ]
  },
  {
   "cell_type": "code",
   "execution_count": 93,
   "metadata": {},
   "outputs": [
    {
     "data": {
      "text/plain": [
       "[2.638774508746533,\n",
       " 2.693671808395852,\n",
       " 2.7377323932265845,\n",
       " 2.774306352025918,\n",
       " 2.8066751064634192,\n",
       " 2.8356251240947694,\n",
       " 2.86200062866835,\n",
       " 2.886508929904211,\n",
       " 2.9094412984201954,\n",
       " 2.930872725544902]"
      ]
     },
     "execution_count": 93,
     "metadata": {},
     "output_type": "execute_result"
    }
   ],
   "source": [
    "\n",
    "[np.mean(np.mean(neighbor_distances[:,:k + 1], axis=1)) for k in range(K)]"
   ]
  },
  {
   "cell_type": "code",
   "execution_count": 10,
   "metadata": {},
   "outputs": [
    {
     "data": {
      "text/plain": [
       "array([[4.41345988, 4.41345988, 4.77582108, ..., 5.36257026, 5.36257026,\n",
       "        5.36257026],\n",
       "       [3.94142012, 4.51828671, 4.51828671, ..., 4.6726689 , 4.6726689 ,\n",
       "        4.73340961],\n",
       "       [5.57449322, 5.57449322, 5.7560028 , ..., 6.48144006, 6.48144006,\n",
       "        6.48144006],\n",
       "       ...,\n",
       "       [2.69425411, 2.91350494, 2.91350494, ..., 2.93062071, 2.93062071,\n",
       "        2.93062071],\n",
       "       [2.72859023, 2.87309512, 3.1241912 , ..., 3.16238074, 3.16238074,\n",
       "        3.16238074],\n",
       "       [3.96354994, 3.96354994, 3.96354994, ..., 4.21241378, 4.21241378,\n",
       "        4.21241378]])"
      ]
     },
     "execution_count": 10,
     "metadata": {},
     "output_type": "execute_result"
    }
   ],
   "source": [
    "neighbors_distance[eval_data_index]"
   ]
  },
  {
   "cell_type": "code",
   "execution_count": null,
   "metadata": {},
   "outputs": [],
   "source": []
  }
 ],
 "metadata": {
  "kernelspec": {
   "display_name": "Python 3",
   "language": "python",
   "name": "python3"
  },
  "language_info": {
   "codemirror_mode": {
    "name": "ipython",
    "version": 3
   },
   "file_extension": ".py",
   "mimetype": "text/x-python",
   "name": "python",
   "nbconvert_exporter": "python",
   "pygments_lexer": "ipython3",
   "version": "3.6.5"
  }
 },
 "nbformat": 4,
 "nbformat_minor": 2
}
