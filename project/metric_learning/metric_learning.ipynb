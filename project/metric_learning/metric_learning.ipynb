{
 "cells": [
  {
   "cell_type": "markdown",
   "metadata": {},
   "source": [
    "Load pre-computed embeddings for the training data."
   ]
  },
  {
   "cell_type": "code",
   "execution_count": 1,
   "metadata": {},
   "outputs": [],
   "source": [
    "import pickle\n",
    "import numpy as np\n",
    "\n",
    "with open('/data/patch_features_small/train2014_embeddings.p', 'rb') as f:\n",
    "    embeddings_dict = pickle.load(f)\n",
    "embeddings, labels = embeddings_dict['embeddings'], embeddings_dict['labels']"
   ]
  },
  {
   "cell_type": "markdown",
   "metadata": {},
   "source": [
    "Load the serialized model."
   ]
  },
  {
   "cell_type": "code",
   "execution_count": 2,
   "metadata": {},
   "outputs": [],
   "source": [
    "from cse547.data import CocoPatchesDataset, OneShotDataLoader\n",
    "from cse547.models import MultiLayerPerceptron\n",
    "from cse547.s3 import deserialize_object\n",
    "\n",
    "S3_BUCKET = 'cse-547'\n",
    "S3_MODEL_KEY = 'project/train/model_103740db-7181-4771-aa0b-cfa7cc407cf8.pkl'\n",
    "S3_TRAINING_LOG_KEY = 'project/train/training_log_103740db-7181-4771-aa0b-cfa7cc407cf8.pkl'\n",
    "TEST_DATA_PATH = '/data/patch_features_small/test2014_positive.p'\n",
    "\n",
    "state_dict = deserialize_object(S3_BUCKET, S3_MODEL_KEY)\n",
    "training_log = deserialize_object(S3_BUCKET, S3_TRAINING_LOG_KEY)\n",
    "\n",
    "eval_data = iter(OneShotDataLoader(\n",
    "    CocoPatchesDataset.from_state_dict_files([TEST_DATA_PATH]))).next()\n",
    "model = MultiLayerPerceptron(\n",
    "    eval_data['features'].size()[1],\n",
    "    eval_data['label'].size()[1],\n",
    "    training_log['model']['hidden_units'],\n",
    "    training=False,\n",
    "    dropout=training_log['model']['dropout'])\n",
    "model.load_state_dict(state_dict)"
   ]
  },
  {
   "cell_type": "markdown",
   "metadata": {},
   "source": [
    "Embed the evaluation data."
   ]
  },
  {
   "cell_type": "code",
   "execution_count": 3,
   "metadata": {},
   "outputs": [],
   "source": [
    "import torch\n",
    "\n",
    "with torch.no_grad():\n",
    "    eval_data['embeddings'] = model.embed(eval_data['features']).data.numpy()"
   ]
  },
  {
   "cell_type": "markdown",
   "metadata": {},
   "source": [
    "Compute nearest neighbors with a [BallTree](http://scikit-learn.org/stable/modules/generated/sklearn.neighbors.BallTree.html)."
   ]
  },
  {
   "cell_type": "code",
   "execution_count": 4,
   "metadata": {},
   "outputs": [],
   "source": [
    "from sklearn.neighbors import BallTree\n",
    "\n",
    "nearest_neighbors = BallTree(embeddings, leaf_size=256)\n",
    "neighbors = nearest_neighbors.query(X=eval_data['embeddings'], k=64, return_distance=True, dualtree=True)"
   ]
  },
  {
   "cell_type": "markdown",
   "metadata": {},
   "source": [
    "Let's output those neighbors now."
   ]
  },
  {
   "cell_type": "code",
   "execution_count": 6,
   "metadata": {},
   "outputs": [],
   "source": [
    "with open('/data/patch_features_small/test2014_neighbors.p', 'wb') as f:\n",
    "    pickle.dump(neighbors, f)"
   ]
  }
 ],
 "metadata": {
  "kernelspec": {
   "display_name": "Python 3",
   "language": "python",
   "name": "python3"
  },
  "language_info": {
   "codemirror_mode": {
    "name": "ipython",
    "version": 3
   },
   "file_extension": ".py",
   "mimetype": "text/x-python",
   "name": "python",
   "nbconvert_exporter": "python",
   "pygments_lexer": "ipython3",
   "version": "3.6.5"
  }
 },
 "nbformat": 4,
 "nbformat_minor": 2
}
