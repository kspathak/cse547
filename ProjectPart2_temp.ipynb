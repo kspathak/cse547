{
  "nbformat": 4,
  "nbformat_minor": 0,
  "metadata": {
    "colab": {
      "name": "ProjectPart2_temp.ipynb",
      "provenance": [],
      "collapsed_sections": [],
      "toc_visible": true,
      "include_colab_link": true
    },
    "kernelspec": {
      "name": "python3",
      "display_name": "Python 3"
    }
  },
  "cells": [
    {
      "cell_type": "markdown",
      "metadata": {
        "id": "view-in-github",
        "colab_type": "text"
      },
      "source": [
        "<a href=\"https://colab.research.google.com/github/kspathak/cse547/blob/master/ProjectPart2_temp.ipynb\" target=\"_parent\"><img src=\"https://colab.research.google.com/assets/colab-badge.svg\" alt=\"Open In Colab\"/></a>"
      ]
    },
    {
      "cell_type": "markdown",
      "metadata": {
        "id": "K2_i0sC_xsrg"
      },
      "source": [
        "# Project Part 2"
      ]
    },
    {
      "cell_type": "markdown",
      "metadata": {
        "id": "UtEEHKrF1gbY"
      },
      "source": [
        "# New Section"
      ]
    },
    {
      "cell_type": "markdown",
      "metadata": {
        "id": "lADF4C_D1eVf"
      },
      "source": [
        "# New Section"
      ]
    },
    {
      "cell_type": "markdown",
      "metadata": {
        "id": "2BVCzyvbyCC9"
      },
      "source": [
        "#Section 1\n",
        "\n",
        "\n",
        "* Title: Evolution of Hate Speech on Social Media During US Elections\n",
        "* Team Name: Team 9\n",
        "* Team Members: Joshua Chestnut, Shreya Kaul, Neeraj Kulkarni, and Kshitij Pathak\n",
        "* PIDs: jchest19, shreya06, neerajk, kspathak"
      ]
    },
    {
      "cell_type": "markdown",
      "metadata": {
        "id": "Cdb3T5YcyJWO"
      },
      "source": [
        "## Section 2\n",
        "\n",
        "Initial Findings, Annotated Code, Visuals, and Analyses"
      ]
    },
    {
      "cell_type": "markdown",
      "metadata": {
        "id": "vzwdAaujykJx"
      },
      "source": [
        "## Section 3\n",
        "\n",
        "For continuity, include a procedural section that describes any major changes you made to Part 1, and a listing of anything you tried that didn't work out."
      ]
    },
    {
      "cell_type": "markdown",
      "metadata": {
        "id": "Df8yjKuwyvGc"
      },
      "source": [
        "## Section 4\n",
        "\n",
        "Credit Listing"
      ]
    },
    {
      "cell_type": "markdown",
      "metadata": {
        "id": "R6jEYAn72nHL"
      },
      "source": [
        "# New Section"
      ]
    },
    {
      "cell_type": "code",
      "metadata": {
        "id": "qAZuXALyyxJX"
      },
      "source": [
        ""
      ],
      "execution_count": null,
      "outputs": []
    }
  ]
}