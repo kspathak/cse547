{
 "cells": [
  {
   "cell_type": "code",
   "execution_count": 1,
   "metadata": {},
   "outputs": [],
   "source": [
    "TRAINING_DATASET = '/data/patch_features_tiny/train2014.p'\n",
    "TEST_DATASET = '/data/patch_features_tiny/test2014.p'\n",
    "S3_BUCKET = 'cse-547'\n",
    "S3_LOG_KEY = 'hw3/train/training_log_1526709589.pkl' # See train_s3_model_key.\n",
    "S3_MODEL_KEY = 'hw3/train/model_1526709589.pkl' # See train_s3_model_key."
   ]
  },
  {
   "cell_type": "code",
   "execution_count": 2,
   "metadata": {},
   "outputs": [],
   "source": [
    "import pickle\n",
    "from cse547.data import CocoPatchesDataset\n",
    "\n",
    "with open(TEST_DATASET, 'rb') as f:\n",
    "    dataset = CocoPatchesDataset.from_state_dict(pickle.load(f))"
   ]
  },
  {
   "cell_type": "code",
   "execution_count": null,
   "metadata": {},
   "outputs": [],
   "source": [
    "from cse547.models import MultiLayerPerceptron\n",
    "from cse547.s3 import deserialize_object\n",
    "\n",
    "training_log = deserialize_object(S3_BUCKET, S3_LOG_KEY)\n",
    "model = MultiLayerPerceptron(\n",
    "    n_features=dataset[0]['features'].size,\n",
    "    n_classes=dataset[0]['label'].size()[0],\n",
    "    hidden_units=training_log['model']['hidden_units'])\n",
    "for param in model.parameters():\n",
    "    param.requires_grad = False\n",
    "model.load_state_dict(deserialize_object(S3_BUCKET, S3_MODEL_KEY))"
   ]
  },
  {
   "cell_type": "code",
   "execution_count": null,
   "metadata": {},
   "outputs": [],
   "source": [
    "import torch\n",
    "from torch.autograd import Variable\n",
    "from torch.nn import functional\n",
    "\n",
    "from cse547.data import OneShotDataLoader\n",
    "\n",
    "data_dict = iter(OneShotDataLoader(dataset)).next()\n",
    "features = Variable(data_dict['features'])\n",
    "labels = Variable(data_dict['label'])\n",
    "with torch.no_grad():\n",
    "    predictions = functional.sigmoid(model(features))"
   ]
  },
  {
   "cell_type": "code",
   "execution_count": null,
   "metadata": {},
   "outputs": [],
   "source": [
    "from sklearn.metrics import average_precision_score\n",
    "\n",
    "test_average_precision_score = average_precision_score(labels.data.numpy(), predictions.data.numpy())\n",
    "with open('test_average_precision_score.tex', 'w') as f:\n",
    "    f.write('{0:.6}'.format(test_average_precision_score))\n",
    "test_average_precision_score"
   ]
  },
  {
   "cell_type": "code",
   "execution_count": null,
   "metadata": {},
   "outputs": [],
   "source": [
    "import numpy as np\n",
    "\n",
    "with open(TRAINING_DATASET, 'rb') as f:\n",
    "    training_observations_cnt = np.sum(\n",
    "        iter(\n",
    "            OneShotDataLoader(\n",
    "                CocoPatchesDataset.from_state_dict(\n",
    "                    pickle.load(f)))).next()['label'].numpy(),\n",
    "        axis=0, dtype=np.int)"
   ]
  },
  {
   "cell_type": "code",
   "execution_count": null,
   "metadata": {},
   "outputs": [],
   "source": [
    "from collections import OrderedDict\n",
    "import pandas as pd\n",
    "\n",
    "evaluation_by_label = pd.DataFrame(OrderedDict([\n",
    "    ('Label', [category['name'] for category in dataset.categories]),\n",
    "    ('Training Observations', training_observations_cnt),\n",
    "    ('Test Observations', np.sum(labels.data.numpy(), axis=0, dtype=np.int)),    \n",
    "    ('Average Precision Score', average_precision_score(labels.data.numpy(), predictions.data.numpy(), average=None)),\n",
    "]))\n",
    "evaluation_by_label"
   ]
  },
  {
   "cell_type": "code",
   "execution_count": null,
   "metadata": {},
   "outputs": [],
   "source": [
    "with open('test_average_precision_score_by_class.tex', 'w') as f:\n",
    "    f.write(evaluation_by_label.to_latex(index=False))"
   ]
  }
 ],
 "metadata": {
  "kernelspec": {
   "display_name": "Python 3",
   "language": "python",
   "name": "python3"
  },
  "language_info": {
   "codemirror_mode": {
    "name": "ipython",
    "version": 3
   },
   "file_extension": ".py",
   "mimetype": "text/x-python",
   "name": "python",
   "nbconvert_exporter": "python",
   "pygments_lexer": "ipython3",
   "version": "3.6.5"
  }
 },
 "nbformat": 4,
 "nbformat_minor": 2
}
