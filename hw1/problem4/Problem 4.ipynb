{
 "cells": [
  {
   "cell_type": "code",
   "execution_count": 1,
   "metadata": {},
   "outputs": [],
   "source": [
    "import torch\n",
    "from torch.autograd import Variable"
   ]
  },
  {
   "cell_type": "markdown",
   "metadata": {},
   "source": [
    "## Two Identical Non-differentiable Functions with different *Derivatives*"
   ]
  },
  {
   "cell_type": "code",
   "execution_count": 2,
   "metadata": {},
   "outputs": [],
   "source": [
    "def f(x: Variable) -> Variable:\n",
    "    assert x.requires_grad\n",
    "    return (2*x*torch.sign(x) + 1)*torch.sign(x)\n",
    "\n",
    "def g(x: Variable) -> Variable:\n",
    "    def g1d(x: Variable) -> Variable:\n",
    "        if x.data[0] > 0:\n",
    "            return 2*x + 1\n",
    "        elif x.data[0] < 0:\n",
    "            return 2*x - 1\n",
    "        else:\n",
    "            return 2*x\n",
    "    assert x.requires_grad\n",
    "    if x.dim() == 0:\n",
    "        return 1*x    \n",
    "    if x.size() == torch.Size([1]):\n",
    "        return g1d(x)\n",
    "\n",
    "    return torch.stack([g(sub_x) for sub_x in x])"
   ]
  },
  {
   "cell_type": "code",
   "execution_count": 3,
   "metadata": {},
   "outputs": [],
   "source": [
    "import numpy as np\n",
    "\n",
    "x = np.linspace(-3, 3, num=51, dtype=np.float32)\n",
    "\n",
    "x_f = Variable(torch.from_numpy(x), requires_grad=True)\n",
    "y_f = f(x_f)\n",
    "\n",
    "x_g = Variable(torch.from_numpy(x), requires_grad=True)\n",
    "y_g = g(x_g)\n",
    "\n",
    "y_f.backward(torch.ones_like(y_f))\n",
    "y_g.backward(torch.ones_like(y_g))"
   ]
  },
  {
   "cell_type": "code",
   "execution_count": 4,
   "metadata": {},
   "outputs": [
    {
     "data": {
      "image/png": "[encoded data removed]",
      "text/plain": [
       "<Figure size 432x216 with 2 Axes>"
      ]
     },
     "metadata": {},
     "output_type": "display_data"
    }
   ],
   "source": [
    "%matplotlib inline\n",
    "import matplotlib.pyplot as plt\n",
    "\n",
    "def plot(ax, x, y, label):\n",
    "    positive = x.data.numpy() > 0\n",
    "    negative = x.data.numpy() < 0\n",
    "    zero = x.data.numpy() == 0\n",
    "    \n",
    "    ax.plot(x.data.numpy()[positive], y.data.numpy()[positive],\n",
    "            c=plt.cm.Set1(0))\n",
    "    ax.plot(x.data.numpy()[negative], y.data.numpy()[negative], c=plt.cm.Set1(0))\n",
    "    ax.plot(x.data.numpy()[zero], y.data.numpy()[zero], '.-', c=plt.cm.Set1(0),\n",
    "            label='${0}$'.format(label))\n",
    "    \n",
    "    ax.plot(x.data.numpy()[positive], x.grad.data.numpy()[positive],\n",
    "            c=plt.cm.Set1(1))\n",
    "    ax.plot(x.data.numpy()[negative], x.grad.data.numpy()[negative], c=plt.cm.Set1(1))\n",
    "    ax.plot(x.data.numpy()[zero], x.grad.data.numpy()[zero], 'x-', c=plt.cm.Set1(1),\n",
    "            label='${0}^\\prime$'.format(label))\n",
    "    \n",
    "    ax.grid()\n",
    "    ax.legend()\n",
    "    \n",
    "fig, (ax1, ax2) = plt.subplots(nrows=1, ncols=2, figsize=(6,3))    \n",
    "plot(ax1, x_f, y_f, label='f')\n",
    "plot(ax2, x_g, y_g, label='g')\n",
    "fig.suptitle('Derivatives of $f$ and $g$ by PyTorch')\n",
    "\n",
    "fig.savefig('problem4.pdf', bbox_inches='tight')"
   ]
  },
  {
   "cell_type": "markdown",
   "metadata": {},
   "source": [
    "## Two Identical Differentiable Functions with different *Derivatives*"
   ]
  },
  {
   "cell_type": "code",
   "execution_count": 5,
   "metadata": {},
   "outputs": [],
   "source": [
    "def f(x: Variable) -> Variable:\n",
    "    assert x.requires_grad\n",
    "    return 2*x*torch.sign(x)*torch.sign(x)\n",
    "\n",
    "def g(x: Variable) -> Variable:\n",
    "    assert x.requires_grad\n",
    "    return 2*x"
   ]
  },
  {
   "cell_type": "code",
   "execution_count": 6,
   "metadata": {},
   "outputs": [],
   "source": [
    "x_f = Variable(torch.from_numpy(x), requires_grad=True)\n",
    "y_f = f(x_f)\n",
    "\n",
    "x_g = Variable(torch.from_numpy(x), requires_grad=True)\n",
    "y_g = g(x_g)\n",
    "\n",
    "y_f.backward(torch.ones_like(y_f))\n",
    "y_g.backward(torch.ones_like(y_g))"
   ]
  },
  {
   "cell_type": "code",
   "execution_count": 7,
   "metadata": {},
   "outputs": [
    {
     "data": {
      "image/png": "[encoded data removed]",
      "text/plain": [
       "<Figure size 432x216 with 2 Axes>"
      ]
     },
     "metadata": {},
     "output_type": "display_data"
    }
   ],
   "source": [
    "fig, (ax1, ax2) = plt.subplots(nrows=1, ncols=2, figsize=(6,3))    \n",
    "plot(ax1, x_f, y_f, label='f')\n",
    "plot(ax2, x_g, y_g, label='g')\n",
    "fig.suptitle('Derivatives of $f$ and $g$ by PyTorch');\n",
    "\n",
    "fig.savefig('problem4_differentiable.pdf', bbox_inches='tight')"
   ]
  }
 ],
 "metadata": {
  "kernelspec": {
   "display_name": "Python 3",
   "language": "python",
   "name": "python3"
  },
  "language_info": {
   "codemirror_mode": {
    "name": "ipython",
    "version": 3
   },
   "file_extension": ".py",
   "mimetype": "text/x-python",
   "name": "python",
   "nbconvert_exporter": "python",
   "pygments_lexer": "ipython3",
   "version": "3.6.5"
  }
 },
 "nbformat": 4,
 "nbformat_minor": 2
}
