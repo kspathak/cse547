{
 "cells": [
  {
   "cell_type": "markdown",
   "metadata": {},
   "source": [
    "# Problem 4 &mdash; Model Evaluation\n",
    "\n",
    "We'll evaluate the model against the test data."
   ]
  },
  {
   "cell_type": "code",
   "execution_count": 1,
   "metadata": {},
   "outputs": [],
   "source": [
    "from cse547.data import CocoMultiLabelFeaturesDataset, FlattenTensorTransform, OneShotDataLoader\n",
    "from cse547.models import LinearClassifier\n",
    "from cse547.s3 import deserialize_object\n",
    "\n",
    "S3_BUCKET = 'cse-547'\n",
    "S3_MODEL_KEY = 'hw2/train/model_1525498537.pkl' # See train_s3_model_key.\n",
    "DATA_SIZE = 'tiny' # Ensure that your model is trained on right-sized data."
   ]
  },
  {
   "cell_type": "markdown",
   "metadata": {},
   "source": [
    "Let's load the data as usual. We want to evaluate against the `test` set. `training` was what we used to compute gradients and `validation` was used to select a model."
   ]
  },
  {
   "cell_type": "code",
   "execution_count": 2,
   "metadata": {},
   "outputs": [
    {
     "name": "stdout",
     "output_type": "stream",
     "text": [
      "loading annotations into memory...\n",
      "Done (t=14.32s)\n",
      "creating index...\n",
      "index created!\n"
     ]
    }
   ],
   "source": [
    "dataset = CocoMultiLabelFeaturesDataset('/data', mode='test', size='tiny', transform=FlattenTensorTransform())\n",
    "data_loader = OneShotDataLoader(dataset)"
   ]
  },
  {
   "cell_type": "code",
   "execution_count": 3,
   "metadata": {},
   "outputs": [
    {
     "data": {
      "text/plain": [
       "OrderedDict([('fc1.weights', \n",
       "               1.0804e-03  2.4114e-03  2.8235e-04  ...  -7.2165e-04 -1.1089e-03 -1.1209e-03\n",
       "               1.8562e-03  6.3103e-04  1.7021e-03  ...   2.9014e-05 -5.1436e-04 -2.4083e-03\n",
       "              -2.1231e-03  1.1507e-03  1.9464e-03  ...   8.3683e-04 -1.9026e-05 -1.4915e-03\n",
       "                              ...                   ⋱                   ...                \n",
       "               1.6766e-05 -5.1669e-03 -2.2196e-03  ...   1.1093e-03  3.1030e-03  1.8658e-03\n",
       "              -1.8034e-03 -2.1368e-03 -3.5687e-03  ...  -5.5807e-05  1.9003e-03  6.8568e-04\n",
       "              -1.3327e-03  1.4789e-03  7.3115e-04  ...  -1.5257e-05  2.7027e-05  1.8777e-03\n",
       "              [torch.FloatTensor of size 5408x18])])"
      ]
     },
     "execution_count": 3,
     "metadata": {},
     "output_type": "execute_result"
    }
   ],
   "source": [
    "state_dict = deserialize_object(S3_BUCKET, S3_MODEL_KEY)\n",
    "state_dict"
   ]
  },
  {
   "cell_type": "code",
   "execution_count": 4,
   "metadata": {},
   "outputs": [
    {
     "name": "stdout",
     "output_type": "stream",
     "text": [
      "[Variable containing:\n",
      " 3.3007e-03 -5.0398e-03 -8.4765e-04  ...  -1.3972e-03 -5.6444e-03  2.5557e-03\n",
      "-2.7419e-03  5.0667e-03  2.1821e-03  ...  -1.9491e-03 -1.6532e-03  5.3134e-03\n",
      " 3.1108e-03  4.1991e-03 -7.8125e-03  ...  -9.5346e-04  3.1182e-03  1.1410e-03\n",
      "                ...                   ⋱                   ...                \n",
      "-3.7840e-03  3.5785e-03 -7.8125e-03  ...   1.5059e-03 -3.9846e-03 -4.2174e-03\n",
      "-2.2392e-04  7.2679e-03  2.0153e-03  ...  -3.9580e-03  1.4277e-03  7.8125e-03\n",
      " 3.1081e-03 -1.6838e-03 -3.5008e-03  ...   1.7304e-03 -3.2286e-03  2.1057e-03\n",
      "[torch.FloatTensor of size 5408x18]\n",
      "]\n",
      "[Variable containing:\n",
      " 1.0804e-03  2.4114e-03  2.8235e-04  ...  -7.2165e-04 -1.1089e-03 -1.1209e-03\n",
      " 1.8562e-03  6.3103e-04  1.7021e-03  ...   2.9014e-05 -5.1436e-04 -2.4083e-03\n",
      "-2.1231e-03  1.1507e-03  1.9464e-03  ...   8.3683e-04 -1.9026e-05 -1.4915e-03\n",
      "                ...                   ⋱                   ...                \n",
      " 1.6766e-05 -5.1669e-03 -2.2196e-03  ...   1.1093e-03  3.1030e-03  1.8658e-03\n",
      "-1.8034e-03 -2.1368e-03 -3.5687e-03  ...  -5.5807e-05  1.9003e-03  6.8568e-04\n",
      "-1.3327e-03  1.4789e-03  7.3115e-04  ...  -1.5257e-05  2.7027e-05  1.8777e-03\n",
      "[torch.FloatTensor of size 5408x18]\n",
      "]\n"
     ]
    }
   ],
   "source": [
    "model = LinearClassifier(len(dataset[0]['features']), len(dataset[0]['label']))\n",
    "for param in model.parameters():\n",
    "    param.requires_grad = False\n",
    "print(list(model.parameters()))\n",
    "model.load_state_dict(state_dict)\n",
    "print(list(model.parameters()))"
   ]
  },
  {
   "cell_type": "code",
   "execution_count": 5,
   "metadata": {
    "scrolled": true
   },
   "outputs": [
    {
     "name": "stdout",
     "output_type": "stream",
     "text": [
      "[Variable containing:\n",
      " 1.0804e-03  2.4114e-03  2.8235e-04  ...  -7.2165e-04 -1.1089e-03 -1.1209e-03\n",
      " 1.8562e-03  6.3103e-04  1.7021e-03  ...   2.9014e-05 -5.1436e-04 -2.4083e-03\n",
      "-2.1231e-03  1.1507e-03  1.9464e-03  ...   8.3683e-04 -1.9026e-05 -1.4915e-03\n",
      "                ...                   ⋱                   ...                \n",
      " 1.6766e-05 -5.1669e-03 -2.2196e-03  ...   1.1093e-03  3.1030e-03  1.8658e-03\n",
      "-1.8034e-03 -2.1368e-03 -3.5687e-03  ...  -5.5807e-05  1.9003e-03  6.8568e-04\n",
      "-1.3327e-03  1.4789e-03  7.3115e-04  ...  -1.5257e-05  2.7027e-05  1.8777e-03\n",
      "[torch.FloatTensor of size 5408x18]\n",
      "]\n"
     ]
    }
   ],
   "source": [
    "print(list(model.parameters()))"
   ]
  },
  {
   "cell_type": "code",
   "execution_count": 6,
   "metadata": {},
   "outputs": [],
   "source": [
    "from torch.autograd import Variable\n",
    "from torch.nn import functional\n",
    "\n",
    "data_dict = iter(data_loader).next()\n",
    "features = Variable(data_dict['features'], volatile=True)\n",
    "labels = Variable(data_dict['label'], volatile=True)\n",
    "predictions = functional.sigmoid(model(features))"
   ]
  },
  {
   "cell_type": "code",
   "execution_count": 7,
   "metadata": {},
   "outputs": [
    {
     "data": {
      "text/plain": [
       "0.4819263272665726"
      ]
     },
     "execution_count": 7,
     "metadata": {},
     "output_type": "execute_result"
    }
   ],
   "source": [
    "from sklearn.metrics import average_precision_score\n",
    "\n",
    "average_precision_score(labels.data.numpy(), predictions.data.numpy())"
   ]
  },
  {
   "cell_type": "code",
   "execution_count": null,
   "metadata": {},
   "outputs": [],
   "source": []
  },
  {
   "cell_type": "code",
   "execution_count": 8,
   "metadata": {},
   "outputs": [
    {
     "data": {
      "text/plain": [
       "['bicycle',\n",
       " 'car',\n",
       " 'motorcycle',\n",
       " 'airplane',\n",
       " 'bus',\n",
       " 'train',\n",
       " 'truck',\n",
       " 'boat',\n",
       " 'bird',\n",
       " 'cat',\n",
       " 'dog',\n",
       " 'horse',\n",
       " 'sheep',\n",
       " 'cow',\n",
       " 'elephant',\n",
       " 'bear',\n",
       " 'zebra',\n",
       " 'giraffe']"
      ]
     },
     "execution_count": 8,
     "metadata": {},
     "output_type": "execute_result"
    }
   ],
   "source": [
    "dataset.label_names"
   ]
  },
  {
   "cell_type": "code",
   "execution_count": 9,
   "metadata": {},
   "outputs": [],
   "source": [
    "from collections import OrderedDict\n",
    "import numpy as np\n",
    "import pandas as pd"
   ]
  },
  {
   "cell_type": "code",
   "execution_count": 10,
   "metadata": {},
   "outputs": [],
   "source": [
    "evaluation_by_label = pd.DataFrame(OrderedDict([\n",
    "    ('label_name', dataset.label_names),\n",
    "    ('training_observations', np.sum(labels.data.numpy(), axis=0, dtype=np.int)),\n",
    "    ('average_precision_score', average_precision_score(labels.data.numpy(), predictions.data.numpy(), average=None)),\n",
    "]))"
   ]
  },
  {
   "cell_type": "code",
   "execution_count": 11,
   "metadata": {},
   "outputs": [
    {
     "data": {
      "text/html": [
       "<div>\n",
       "<style scoped>\n",
       "    .dataframe tbody tr th:only-of-type {\n",
       "        vertical-align: middle;\n",
       "    }\n",
       "\n",
       "    .dataframe tbody tr th {\n",
       "        vertical-align: top;\n",
       "    }\n",
       "\n",
       "    .dataframe thead th {\n",
       "        text-align: right;\n",
       "    }\n",
       "</style>\n",
       "<table border=\"1\" class=\"dataframe\">\n",
       "  <thead>\n",
       "    <tr style=\"text-align: right;\">\n",
       "      <th></th>\n",
       "      <th>label_name</th>\n",
       "      <th>training_observations</th>\n",
       "      <th>average_precision_score</th>\n",
       "    </tr>\n",
       "  </thead>\n",
       "  <tbody>\n",
       "    <tr>\n",
       "      <th>0</th>\n",
       "      <td>bicycle</td>\n",
       "      <td>201</td>\n",
       "      <td>0.370129</td>\n",
       "    </tr>\n",
       "    <tr>\n",
       "      <th>1</th>\n",
       "      <td>car</td>\n",
       "      <td>752</td>\n",
       "      <td>0.747794</td>\n",
       "    </tr>\n",
       "    <tr>\n",
       "      <th>2</th>\n",
       "      <td>motorcycle</td>\n",
       "      <td>192</td>\n",
       "      <td>0.514566</td>\n",
       "    </tr>\n",
       "    <tr>\n",
       "      <th>3</th>\n",
       "      <td>airplane</td>\n",
       "      <td>95</td>\n",
       "      <td>0.637784</td>\n",
       "    </tr>\n",
       "    <tr>\n",
       "      <th>4</th>\n",
       "      <td>bus</td>\n",
       "      <td>257</td>\n",
       "      <td>0.562634</td>\n",
       "    </tr>\n",
       "    <tr>\n",
       "      <th>5</th>\n",
       "      <td>train</td>\n",
       "      <td>74</td>\n",
       "      <td>0.337445</td>\n",
       "    </tr>\n",
       "    <tr>\n",
       "      <th>6</th>\n",
       "      <td>truck</td>\n",
       "      <td>458</td>\n",
       "      <td>0.515644</td>\n",
       "    </tr>\n",
       "    <tr>\n",
       "      <th>7</th>\n",
       "      <td>boat</td>\n",
       "      <td>137</td>\n",
       "      <td>0.350461</td>\n",
       "    </tr>\n",
       "    <tr>\n",
       "      <th>8</th>\n",
       "      <td>bird</td>\n",
       "      <td>217</td>\n",
       "      <td>0.316766</td>\n",
       "    </tr>\n",
       "    <tr>\n",
       "      <th>9</th>\n",
       "      <td>cat</td>\n",
       "      <td>96</td>\n",
       "      <td>0.533058</td>\n",
       "    </tr>\n",
       "    <tr>\n",
       "      <th>10</th>\n",
       "      <td>dog</td>\n",
       "      <td>145</td>\n",
       "      <td>0.309613</td>\n",
       "    </tr>\n",
       "    <tr>\n",
       "      <th>11</th>\n",
       "      <td>horse</td>\n",
       "      <td>182</td>\n",
       "      <td>0.388725</td>\n",
       "    </tr>\n",
       "    <tr>\n",
       "      <th>12</th>\n",
       "      <td>sheep</td>\n",
       "      <td>118</td>\n",
       "      <td>0.598416</td>\n",
       "    </tr>\n",
       "    <tr>\n",
       "      <th>13</th>\n",
       "      <td>cow</td>\n",
       "      <td>165</td>\n",
       "      <td>0.316740</td>\n",
       "    </tr>\n",
       "    <tr>\n",
       "      <th>14</th>\n",
       "      <td>elephant</td>\n",
       "      <td>107</td>\n",
       "      <td>0.556616</td>\n",
       "    </tr>\n",
       "    <tr>\n",
       "      <th>15</th>\n",
       "      <td>bear</td>\n",
       "      <td>25</td>\n",
       "      <td>0.112690</td>\n",
       "    </tr>\n",
       "    <tr>\n",
       "      <th>16</th>\n",
       "      <td>zebra</td>\n",
       "      <td>164</td>\n",
       "      <td>0.771251</td>\n",
       "    </tr>\n",
       "    <tr>\n",
       "      <th>17</th>\n",
       "      <td>giraffe</td>\n",
       "      <td>172</td>\n",
       "      <td>0.734340</td>\n",
       "    </tr>\n",
       "  </tbody>\n",
       "</table>\n",
       "</div>"
      ],
      "text/plain": [
       "    label_name  training_observations  average_precision_score\n",
       "0      bicycle                    201                 0.370129\n",
       "1          car                    752                 0.747794\n",
       "2   motorcycle                    192                 0.514566\n",
       "3     airplane                     95                 0.637784\n",
       "4          bus                    257                 0.562634\n",
       "5        train                     74                 0.337445\n",
       "6        truck                    458                 0.515644\n",
       "7         boat                    137                 0.350461\n",
       "8         bird                    217                 0.316766\n",
       "9          cat                     96                 0.533058\n",
       "10         dog                    145                 0.309613\n",
       "11       horse                    182                 0.388725\n",
       "12       sheep                    118                 0.598416\n",
       "13         cow                    165                 0.316740\n",
       "14    elephant                    107                 0.556616\n",
       "15        bear                     25                 0.112690\n",
       "16       zebra                    164                 0.771251\n",
       "17     giraffe                    172                 0.734340"
      ]
     },
     "execution_count": 11,
     "metadata": {},
     "output_type": "execute_result"
    }
   ],
   "source": [
    "evaluation_by_label"
   ]
  },
  {
   "cell_type": "code",
   "execution_count": null,
   "metadata": {},
   "outputs": [],
   "source": []
  },
  {
   "cell_type": "code",
   "execution_count": null,
   "metadata": {},
   "outputs": [],
   "source": []
  }
 ],
 "metadata": {
  "kernelspec": {
   "display_name": "Python 3",
   "language": "python",
   "name": "python3"
  },
  "language_info": {
   "codemirror_mode": {
    "name": "ipython",
    "version": 3
   },
   "file_extension": ".py",
   "mimetype": "text/x-python",
   "name": "python",
   "nbconvert_exporter": "python",
   "pygments_lexer": "ipython3",
   "version": "3.6.5"
  }
 },
 "nbformat": 4,
 "nbformat_minor": 2
}
